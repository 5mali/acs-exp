{
 "cells": [
  {
   "cell_type": "code",
   "execution_count": null,
   "metadata": {},
   "outputs": [],
   "source": []
  },
  {
   "cell_type": "code",
   "execution_count": null,
   "metadata": {},
   "outputs": [],
   "source": []
  },
  {
   "cell_type": "code",
   "execution_count": null,
   "metadata": {},
   "outputs": [],
   "source": [
    "from matplotlib.colors import LogNorm\n",
    "from mpl_toolkits.mplot3d import Axes3D\n",
    "import matplotlib.pyplot as plt\n",
    "import numpy as np\n",
    "import seaborn as sns"
   ]
  },
  {
   "cell_type": "code",
   "execution_count": null,
   "metadata": {},
   "outputs": [],
   "source": [
    "cmap = plt.cm.tab20"
   ]
  },
  {
   "cell_type": "code",
   "execution_count": null,
   "metadata": {},
   "outputs": [],
   "source": [
    "NO_OF_NODES = 10"
   ]
  },
  {
   "cell_type": "code",
   "execution_count": null,
   "metadata": {},
   "outputs": [],
   "source": [
    "beno = np.load('beno.npy')\n",
    "deno = np.load('DENO.npy')\n",
    "ceno = np.load('CENO.npy')\n",
    "seno = np.load('SENO.npy')"
   ]
  },
  {
   "cell_type": "code",
   "execution_count": null,
   "metadata": {},
   "outputs": [],
   "source": [
    "states_list = beno[:,0]\n",
    "actions = np.array(beno[:,1])\n",
    "rewards = np.array(beno[:,2])\n",
    "\n",
    "states = np.array([np.array(x) for x in states_list])\n",
    "\n",
    "batt = states[:,0]\n",
    "enp = states[:,1]\n",
    "henergy = states[:,2]\n",
    "fcast = states[:,3]\n",
    "\n",
    "beno = np.column_stack((batt,enp,henergy,fcast,actions,rewards))"
   ]
  },
  {
   "cell_type": "code",
   "execution_count": null,
   "metadata": {},
   "outputs": [],
   "source": [
    "batt = beno[:,0]\n",
    "beno_total_downtime = (batt < 0.0055).astype(int)\n",
    "beno_total_overflow = (batt == 1).astype(int)"
   ]
  },
  {
   "cell_type": "code",
   "execution_count": null,
   "metadata": {},
   "outputs": [],
   "source": [
    "batt = deno[:,:,0]\n",
    "downtime_occur = (batt < 0.0055).astype(int)\n",
    "overflow_occur = (batt == 1).astype(int)\n",
    "\n",
    "# OVERALL DOWNTIME OF SYSTEM\n",
    "deno_total_downtime = downtime_occur.sum(axis=0)\n",
    "deno_total_overflow = overflow_occur.sum(axis=0)\n"
   ]
  },
  {
   "cell_type": "code",
   "execution_count": null,
   "metadata": {},
   "outputs": [],
   "source": [
    "batt = ceno[:,:,0]\n",
    "downtime_occur = (batt < 0.0055).astype(int)\n",
    "overflow_occur = (batt == 1).astype(int)\n",
    "\n",
    "# OVERALL DOWNTIME OF SYSTEM\n",
    "ceno_total_downtime = downtime_occur.sum(axis=0)\n",
    "ceno_total_overflow = overflow_occur.sum(axis=0)"
   ]
  },
  {
   "cell_type": "code",
   "execution_count": null,
   "metadata": {},
   "outputs": [],
   "source": [
    "batt = seno[:,:,0]\n",
    "downtime_occur = (batt < 0.0055).astype(int)\n",
    "overflow_occur = (batt == 1).astype(int)\n",
    "\n",
    "# OVERALL DOWNTIME OF SYSTEM\n",
    "seno_total_downtime = downtime_occur.sum(axis=0)\n",
    "seno_total_overflow = overflow_occur.sum(axis=0)"
   ]
  },
  {
   "cell_type": "code",
   "execution_count": null,
   "metadata": {},
   "outputs": [],
   "source": [
    "dummy = np.zeros_like(beno_total_downtime)\n",
    "dummy[:deno_total_downtime.shape[0]] = deno_total_downtime\n",
    "deno_total_downtime = dummy\n",
    "\n",
    "dummy = np.zeros_like(beno_total_downtime)\n",
    "dummy[:ceno_total_downtime.shape[0]] = ceno_total_downtime\n",
    "ceno_total_downtime = dummy\n",
    "\n",
    "dummy = np.zeros_like(beno_total_downtime)\n",
    "dummy[:seno_total_downtime.shape[0]] = seno_total_downtime\n",
    "seno_total_downtime = dummy\n",
    "\n",
    "\n",
    "plt.plot(beno_total_downtime.cumsum())\n",
    "plt.plot(deno_total_downtime.cumsum())\n",
    "plt.plot(ceno_total_downtime.cumsum())\n",
    "plt.plot(seno_total_downtime.cumsum())\n",
    "\n",
    "plt.xscale('log')\n",
    "plt.legend(['beno','deno','ceno','seno'])"
   ]
  },
  {
   "cell_type": "code",
   "execution_count": null,
   "metadata": {},
   "outputs": [],
   "source": [
    "dummy = np.zeros_like(beno_total_overflow)\n",
    "dummy[:deno_total_overflow.shape[0]] = deno_total_overflow\n",
    "deno_total_overflow = dummy\n",
    "\n",
    "dummy = np.zeros_like(beno_total_overflow)\n",
    "dummy[:ceno_total_overflow.shape[0]] = ceno_total_overflow\n",
    "ceno_total_overflow = dummy\n",
    "\n",
    "dummy = np.zeros_like(beno_total_overflow)\n",
    "dummy[:seno_total_overflow.shape[0]] = seno_total_overflow\n",
    "seno_total_overflow = dummy\n",
    "\n",
    "\n",
    "\n",
    "\n",
    "plt.plot(beno_total_overflow.cumsum())\n",
    "plt.plot(deno_total_overflow.cumsum())\n",
    "plt.plot(ceno_total_overflow.cumsum())\n",
    "plt.plot(seno_total_overflow.cumsum())\n",
    "\n",
    "plt.xscale('log')\n",
    "plt.legend(['beno','deno','ceno','seno'])"
   ]
  }
 ],
 "metadata": {
  "kernelspec": {
   "display_name": "Python 3",
   "language": "python",
   "name": "python3"
  },
  "language_info": {
   "codemirror_mode": {
    "name": "ipython",
    "version": 3
   },
   "file_extension": ".py",
   "mimetype": "text/x-python",
   "name": "python",
   "nbconvert_exporter": "python",
   "pygments_lexer": "ipython3",
   "version": "3.6.3"
  }
 },
 "nbformat": 4,
 "nbformat_minor": 2
}
